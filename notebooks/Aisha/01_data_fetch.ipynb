{
 "cells": [
  {
   "cell_type": "markdown",
   "metadata": {},
   "source": [
    "**Some vehicles stopped in violation are exempt from fines due to business reasons. For vehicles that are exempt, are there repeat offenders? Where are exempt vehicles frequently in violation?**\n",
    "\n",
    "*Recommendation - This problem is great for a mapping visualization! Choose a CUNY bus route that you are familiar with plot the long and latitude of where vehicles are in violation as well as the overall bus route.*"
   ]
  },
  {
   "cell_type": "markdown",
   "metadata": {},
   "source": [
    "## Data Extraction via API"
   ]
  },
  {
   "cell_type": "code",
   "execution_count": 8,
   "metadata": {},
   "outputs": [],
   "source": [
    "import requests\n",
    "import random\n",
    "import logging\n",
    "import time\n",
    "import csv\n",
    "import pandas as pd\n",
    "import os\n",
    "import io\n",
    "\n",
    "DATA_DIR_RAW = os.path.join(\"..\", \"..\", \"data\", \"raw\")\n",
    "DATA_DIR_PROCESSED = os.path.join(\"..\", \"..\", \"data\", \"processed\")\n",
    "\n",
    "# 🪵 Logging setup\n",
    "logging.basicConfig(\n",
    "    level=logging.INFO,\n",
    "    format=\"%(asctime)s - %(levelname)s - %(message)s\"\n",
    ")"
   ]
  },
  {
   "cell_type": "code",
   "execution_count": 9,
   "metadata": {},
   "outputs": [],
   "source": [
    "def write_to_csv(data, output_file, replace=False):\n",
    "    if os.path.exists(output_file) and not replace:\n",
    "        logging.info(f\"☑️ File '{output_file}' already exists. Skipping write.\")\n",
    "        return\n",
    "\n",
    "    try:\n",
    "        if isinstance(data, pd.DataFrame):\n",
    "            # Handle DataFrame directly\n",
    "            if data.empty:\n",
    "                logging.warning(\"⚠️ No data to write (DataFrame is empty).\")\n",
    "                return\n",
    "            data.to_csv(output_file, index=False, encoding=\"utf-8\")\n",
    "            logging.info(f\"📄 Successfully wrote {len(data)} rows (DataFrame) to '{output_file}'\")\n",
    "\n",
    "        elif isinstance(data, list):\n",
    "            # Handle list of dicts\n",
    "            if not data:\n",
    "                logging.warning(\"⚠️ No data to write (list is empty).\")\n",
    "                return\n",
    "            fieldnames = sorted(set().union(*(d.keys() for d in data)))\n",
    "            with open(output_file, mode=\"w\", newline=\"\", encoding=\"utf-8\") as f:\n",
    "                writer = csv.DictWriter(f, fieldnames=fieldnames)\n",
    "                writer.writeheader()\n",
    "                writer.writerows(data)\n",
    "            logging.info(f\"📄 Successfully wrote {len(data)} rows (list of dicts) to '{output_file}'\")\n",
    "\n",
    "        else:\n",
    "            logging.error(f\"❌ Unsupported data type: {type(data)}. Expected DataFrame or list of dicts.\")\n",
    "\n",
    "    except Exception as e:\n",
    "        logging.error(f\"❌ Failed to write CSV: {e}\")"
   ]
  },
  {
   "cell_type": "code",
   "execution_count": null,
   "metadata": {},
   "outputs": [
    {
     "name": "stdout",
     "output_type": "stream",
     "text": [
      "Total exempt rows available: 870810\n",
      "Fetching rows 1 to 50000\n",
      "Fetching rows 50001 to 100000\n",
      "Fetching rows 100001 to 150000\n",
      "Fetching rows 150001 to 200000\n",
      "Fetching rows 200001 to 250000\n",
      "Fetching rows 250001 to 300000\n",
      "Fetching rows 300001 to 350000\n",
      "Fetching rows 350001 to 400000\n",
      "Fetching rows 400001 to 450000\n",
      "Fetching rows 450001 to 500000\n",
      "Fetching rows 500001 to 550000\n",
      "Fetching rows 550001 to 600000\n",
      "Fetching rows 600001 to 650000\n",
      "Fetching rows 650001 to 700000\n",
      "Fetching rows 700001 to 750000\n",
      "Fetching rows 750001 to 800000\n",
      "Fetching rows 800001 to 850000\n",
      "Fetching rows 850001 to 870810\n",
      "Total rows collected: 870810\n"
     ]
    }
   ],
   "source": [
    "ACE_endpoint_url = \"https://data.ny.gov/resource/kh8p-hcbm.csv\"\n",
    "CBD_endpoint_url = \"https://data.ny.gov/resource/cgzt-smqf.csv\"\n",
    "\n",
    "exempt_types = (\n",
    "    \"'EXEMPT - BUS/PARATRANSIT', \"\n",
    "    \"'EXEMPT - OTHER', \"\n",
    "    \"'EXEMPT - EMERGENCY VEHICLE', \"\n",
    "    \"'EXEMPT - COMMERCIAL UNDER 20'\"\n",
    ")\n",
    "\n",
    "count_query = f\"\"\"\n",
    "    SELECT count(*)\n",
    "    WHERE violation_status IN ({exempt_types})\n",
    "\"\"\"\n",
    "response = requests.get(ACE_endpoint_url, params={\"$query\": count_query})\n",
    "\n",
    "# Fix: parse the count\n",
    "count_df = pd.read_csv(io.StringIO(response.text))\n",
    "max_rows = int(count_df.iloc[0, 0])\n",
    "print(f\"Total exempt rows available: {max_rows}\")\n",
    "\n",
    "all_data = []\n",
    "limit = 50000\n",
    "offset = 0\n",
    "\n",
    "while offset < max_rows:\n",
    "    print(f\"Fetching rows {offset + 1} to {min(offset + limit, max_rows)}\")\n",
    "\n",
    "    soql_query = f\"\"\"\n",
    "        SELECT *\n",
    "        WHERE violation_status IN ({exempt_types})\n",
    "        LIMIT {limit}\n",
    "        OFFSET {offset}\n",
    "    \"\"\"\n",
    "\n",
    "    response = requests.get(ACE_endpoint_url, params={\"$query\": soql_query})\n",
    "\n",
    "    try:\n",
    "        chunk_data = pd.read_csv(io.StringIO(response.text))\n",
    "        if not chunk_data.empty:\n",
    "            all_data.append(chunk_data)\n",
    "    except pd.errors.EmptyDataError:\n",
    "        break\n",
    "\n",
    "    offset += limit\n",
    "    time.sleep(1)\n",
    "\n",
    "ACE_exempt_violations = pd.concat(all_data, ignore_index=True)\n",
    "print(f\"Total rows collected: {len(ACE_exempt_violations)}\")"
   ]
  },
  {
   "cell_type": "code",
   "execution_count": 12,
   "metadata": {},
   "outputs": [
    {
     "name": "stderr",
     "output_type": "stream",
     "text": [
      "2025-09-21 19:00:04,590 - INFO - 📄 Successfully wrote 870810 rows (DataFrame) to '..\\..\\data\\raw\\ACE_exempt_violations.csv'\n"
     ]
    }
   ],
   "source": [
    "OUTPUT_ACE = os.path.join(DATA_DIR_RAW, \"ACE_exempt_violations.csv\")\n",
    "write_to_csv(ACE_exempt_violations, OUTPUT_ACE)"
   ]
  }
 ],
 "metadata": {
  "kernelspec": {
   "display_name": "Python 3",
   "language": "python",
   "name": "python3"
  },
  "language_info": {
   "codemirror_mode": {
    "name": "ipython",
    "version": 3
   },
   "file_extension": ".py",
   "mimetype": "text/x-python",
   "name": "python",
   "nbconvert_exporter": "python",
   "pygments_lexer": "ipython3",
   "version": "3.11.8"
  }
 },
 "nbformat": 4,
 "nbformat_minor": 4
}
